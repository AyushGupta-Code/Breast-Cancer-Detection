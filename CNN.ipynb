{
 "cells": [
  {
   "cell_type": "markdown",
   "id": "68410441",
   "metadata": {},
   "source": [
    "# Data Preprocessing"
   ]
  },
  {
   "cell_type": "code",
   "execution_count": 16,
   "id": "e07045c0",
   "metadata": {},
   "outputs": [],
   "source": [
    "#Import the libraries\n",
    "import pandas as pd\n",
    "import numpy as np\n",
    "import matplotlib.pyplot as plt\n",
    "import tensorflow as tf"
   ]
  },
  {
   "cell_type": "code",
   "execution_count": 2,
   "id": "173c6376",
   "metadata": {},
   "outputs": [],
   "source": [
    "#Import dataset\n",
    "dataset = pd.read_csv('data.csv')\n",
    "dataset = dataset.dropna(axis=1)\n",
    "dataset = dataset.drop(['id'],axis=1)\n",
    "dataset.replace('m', 1, inplace = True) \n",
    "dataset.replace('b', 0, inplace = True)\n",
    "x = dataset.iloc[:,1:31].values\n",
    "y = dataset.iloc[:,0].values"
   ]
  },
  {
   "cell_type": "code",
   "execution_count": 3,
   "id": "9d8b9d42",
   "metadata": {},
   "outputs": [],
   "source": [
    "#Train test split\n",
    "from sklearn.model_selection import train_test_split\n",
    "x_train, x_test, y_train, y_test = train_test_split(x,y,test_size=0.25, random_state = 42)"
   ]
  },
  {
   "cell_type": "code",
   "execution_count": 4,
   "id": "c6f17369",
   "metadata": {},
   "outputs": [],
   "source": [
    "#Feature Scaling\n",
    "from sklearn.preprocessing import StandardScaler\n",
    "sc = StandardScaler()\n",
    "x_train = sc.fit_transform(x_train)\n",
    "x_test = sc.transform(x_test)"
   ]
  },
  {
   "cell_type": "markdown",
   "id": "415548eb",
   "metadata": {},
   "source": [
    "# Build the CNN"
   ]
  },
  {
   "cell_type": "code",
   "execution_count": 5,
   "id": "5d35070c",
   "metadata": {},
   "outputs": [],
   "source": [
    "#Initialize the model\n",
    "cnn = tf.keras.models.Sequential()"
   ]
  },
  {
   "cell_type": "code",
   "execution_count": 6,
   "id": "1cb42adc",
   "metadata": {},
   "outputs": [],
   "source": [
    "#Step 1: Convolution\n",
    "cnn.add(tf.keras.layers.Conv1D(filters=32, kernel_size = 2, activation = 'relu',input_shape = (30,1)))\n",
    "cnn.add(tf.keras.layers.BatchNormalization())\n",
    "cnn.add(tf.keras.layers.Dropout(0.2))"
   ]
  },
  {
   "cell_type": "code",
   "execution_count": 7,
   "id": "ce09f4bb",
   "metadata": {},
   "outputs": [],
   "source": [
    "#Adding second convolution layer\n",
    "cnn.add(tf.keras.layers.Conv1D(filters=32, kernel_size = 2, activation = 'relu'))\n",
    "cnn.add(tf.keras.layers.BatchNormalization())\n",
    "cnn.add(tf.keras.layers.Dropout(0.5))"
   ]
  },
  {
   "cell_type": "code",
   "execution_count": 8,
   "id": "eb569d28",
   "metadata": {},
   "outputs": [],
   "source": [
    "#Step 2: Flattening\n",
    "cnn.add(tf.keras.layers.Flatten())"
   ]
  },
  {
   "cell_type": "code",
   "execution_count": 9,
   "id": "7f7c1bbc",
   "metadata": {},
   "outputs": [],
   "source": [
    "#Step 3: Full Connection\n",
    "cnn.add(tf.keras.layers.Dense(units=64,activation='relu'))\n",
    "cnn.add(tf.keras.layers.Dropout(0.5))"
   ]
  },
  {
   "cell_type": "code",
   "execution_count": 10,
   "id": "34ec3a20",
   "metadata": {},
   "outputs": [],
   "source": [
    "#Step 4: Output Layer\n",
    "cnn.add(tf.keras.layers.Dense(units=1,activation='sigmoid'))"
   ]
  },
  {
   "cell_type": "markdown",
   "id": "1970ca3f",
   "metadata": {},
   "source": [
    "# Training the CNN"
   ]
  },
  {
   "cell_type": "code",
   "execution_count": 17,
   "id": "e5e2128f",
   "metadata": {},
   "outputs": [],
   "source": [
    "#Compiling the CNN\n",
    "cnn.compile(optimizer='adam', loss = 'binary_crossentropy', metrics = ['accuracy'])"
   ]
  },
  {
   "cell_type": "code",
   "execution_count": 18,
   "id": "4d8e25e0",
   "metadata": {},
   "outputs": [
    {
     "name": "stdout",
     "output_type": "stream",
     "text": [
      "Epoch 1/50\n",
      "14/14 [==============================] - 1s 15ms/step - loss: 0.0252 - accuracy: 0.9930 - val_loss: 0.0923 - val_accuracy: 0.9580\n",
      "Epoch 2/50\n",
      "14/14 [==============================] - 0s 4ms/step - loss: 0.0564 - accuracy: 0.9836 - val_loss: 0.0921 - val_accuracy: 0.9580\n",
      "Epoch 3/50\n",
      "14/14 [==============================] - 0s 5ms/step - loss: 0.0241 - accuracy: 0.9953 - val_loss: 0.0921 - val_accuracy: 0.9580\n",
      "Epoch 4/50\n",
      "14/14 [==============================] - 0s 4ms/step - loss: 0.0180 - accuracy: 0.9930 - val_loss: 0.0922 - val_accuracy: 0.9580\n",
      "Epoch 5/50\n",
      "14/14 [==============================] - 0s 4ms/step - loss: 0.0464 - accuracy: 0.9859 - val_loss: 0.0923 - val_accuracy: 0.9580\n",
      "Epoch 6/50\n",
      "14/14 [==============================] - 0s 4ms/step - loss: 0.0279 - accuracy: 0.9883 - val_loss: 0.0926 - val_accuracy: 0.9580\n",
      "Epoch 7/50\n",
      "14/14 [==============================] - 0s 4ms/step - loss: 0.0282 - accuracy: 0.9859 - val_loss: 0.0934 - val_accuracy: 0.9580\n",
      "Epoch 8/50\n",
      "14/14 [==============================] - 0s 4ms/step - loss: 0.0563 - accuracy: 0.9836 - val_loss: 0.0942 - val_accuracy: 0.9580\n",
      "Epoch 9/50\n",
      "14/14 [==============================] - 0s 4ms/step - loss: 0.0348 - accuracy: 0.9883 - val_loss: 0.0941 - val_accuracy: 0.9580\n",
      "Epoch 10/50\n",
      "14/14 [==============================] - 0s 4ms/step - loss: 0.0225 - accuracy: 0.9906 - val_loss: 0.0928 - val_accuracy: 0.9580\n",
      "Epoch 11/50\n",
      "14/14 [==============================] - 0s 4ms/step - loss: 0.0680 - accuracy: 0.9742 - val_loss: 0.0921 - val_accuracy: 0.9580\n",
      "Epoch 12/50\n",
      "14/14 [==============================] - 0s 4ms/step - loss: 0.0579 - accuracy: 0.9836 - val_loss: 0.0919 - val_accuracy: 0.9580\n",
      "Epoch 13/50\n",
      "14/14 [==============================] - 0s 5ms/step - loss: 0.0379 - accuracy: 0.9883 - val_loss: 0.0931 - val_accuracy: 0.9580\n",
      "Epoch 14/50\n",
      "14/14 [==============================] - 0s 6ms/step - loss: 0.0195 - accuracy: 0.9930 - val_loss: 0.0944 - val_accuracy: 0.9580\n",
      "Epoch 15/50\n",
      "14/14 [==============================] - 0s 6ms/step - loss: 0.0218 - accuracy: 0.9906 - val_loss: 0.0938 - val_accuracy: 0.9580\n",
      "Epoch 16/50\n",
      "14/14 [==============================] - 0s 5ms/step - loss: 0.0194 - accuracy: 0.9953 - val_loss: 0.0934 - val_accuracy: 0.9580\n",
      "Epoch 17/50\n",
      "14/14 [==============================] - 0s 6ms/step - loss: 0.0403 - accuracy: 0.9812 - val_loss: 0.0926 - val_accuracy: 0.9580\n",
      "Epoch 18/50\n",
      "14/14 [==============================] - 0s 6ms/step - loss: 0.0619 - accuracy: 0.9812 - val_loss: 0.0921 - val_accuracy: 0.9580\n",
      "Epoch 19/50\n",
      "14/14 [==============================] - 0s 5ms/step - loss: 0.0257 - accuracy: 0.9859 - val_loss: 0.0905 - val_accuracy: 0.9580\n",
      "Epoch 20/50\n",
      "14/14 [==============================] - 0s 5ms/step - loss: 0.0268 - accuracy: 0.9930 - val_loss: 0.0901 - val_accuracy: 0.9580\n",
      "Epoch 21/50\n",
      "14/14 [==============================] - 0s 4ms/step - loss: 0.0470 - accuracy: 0.9765 - val_loss: 0.0907 - val_accuracy: 0.9580\n",
      "Epoch 22/50\n",
      "14/14 [==============================] - 0s 4ms/step - loss: 0.0240 - accuracy: 0.9906 - val_loss: 0.0906 - val_accuracy: 0.9580\n",
      "Epoch 23/50\n",
      "14/14 [==============================] - 0s 5ms/step - loss: 0.0335 - accuracy: 0.9859 - val_loss: 0.0910 - val_accuracy: 0.9580\n",
      "Epoch 24/50\n",
      "14/14 [==============================] - 0s 5ms/step - loss: 0.0447 - accuracy: 0.9859 - val_loss: 0.0904 - val_accuracy: 0.9580\n",
      "Epoch 25/50\n",
      "14/14 [==============================] - 0s 6ms/step - loss: 0.0260 - accuracy: 0.9883 - val_loss: 0.0906 - val_accuracy: 0.9580\n",
      "Epoch 26/50\n",
      "14/14 [==============================] - 0s 5ms/step - loss: 0.0444 - accuracy: 0.9812 - val_loss: 0.0896 - val_accuracy: 0.9580\n",
      "Epoch 27/50\n",
      "14/14 [==============================] - 0s 6ms/step - loss: 0.0274 - accuracy: 0.9836 - val_loss: 0.0892 - val_accuracy: 0.9580\n",
      "Epoch 28/50\n",
      "14/14 [==============================] - 0s 5ms/step - loss: 0.0524 - accuracy: 0.9789 - val_loss: 0.0898 - val_accuracy: 0.9580\n",
      "Epoch 29/50\n",
      "14/14 [==============================] - 0s 6ms/step - loss: 0.0329 - accuracy: 0.9883 - val_loss: 0.0890 - val_accuracy: 0.9580\n",
      "Epoch 30/50\n",
      "14/14 [==============================] - 0s 6ms/step - loss: 0.0281 - accuracy: 0.9906 - val_loss: 0.0884 - val_accuracy: 0.9580\n",
      "Epoch 31/50\n",
      "14/14 [==============================] - 0s 6ms/step - loss: 0.0171 - accuracy: 0.9977 - val_loss: 0.0884 - val_accuracy: 0.9580\n",
      "Epoch 32/50\n",
      "14/14 [==============================] - 0s 6ms/step - loss: 0.0377 - accuracy: 0.9836 - val_loss: 0.0886 - val_accuracy: 0.9580\n",
      "Epoch 33/50\n",
      "14/14 [==============================] - 0s 5ms/step - loss: 0.0219 - accuracy: 0.9953 - val_loss: 0.0896 - val_accuracy: 0.9580\n",
      "Epoch 34/50\n",
      "14/14 [==============================] - 0s 6ms/step - loss: 0.0318 - accuracy: 0.9883 - val_loss: 0.0895 - val_accuracy: 0.9580\n",
      "Epoch 35/50\n",
      "14/14 [==============================] - 0s 5ms/step - loss: 0.0193 - accuracy: 0.9930 - val_loss: 0.0901 - val_accuracy: 0.9580\n",
      "Epoch 36/50\n",
      "14/14 [==============================] - 0s 6ms/step - loss: 0.0230 - accuracy: 0.9953 - val_loss: 0.0900 - val_accuracy: 0.9580\n",
      "Epoch 37/50\n",
      "14/14 [==============================] - 0s 4ms/step - loss: 0.0302 - accuracy: 0.9930 - val_loss: 0.0900 - val_accuracy: 0.9580\n",
      "Epoch 38/50\n",
      "14/14 [==============================] - 0s 5ms/step - loss: 0.0326 - accuracy: 0.9812 - val_loss: 0.0901 - val_accuracy: 0.9580\n",
      "Epoch 39/50\n",
      "14/14 [==============================] - 0s 4ms/step - loss: 0.0293 - accuracy: 0.9906 - val_loss: 0.0901 - val_accuracy: 0.9580\n",
      "Epoch 40/50\n",
      "14/14 [==============================] - 0s 4ms/step - loss: 0.0307 - accuracy: 0.9883 - val_loss: 0.0909 - val_accuracy: 0.9580\n",
      "Epoch 41/50\n",
      "14/14 [==============================] - 0s 4ms/step - loss: 0.0195 - accuracy: 0.9953 - val_loss: 0.0911 - val_accuracy: 0.9580\n",
      "Epoch 42/50\n",
      "14/14 [==============================] - 0s 4ms/step - loss: 0.0252 - accuracy: 0.9883 - val_loss: 0.0914 - val_accuracy: 0.9580\n",
      "Epoch 43/50\n",
      "14/14 [==============================] - 0s 4ms/step - loss: 0.0367 - accuracy: 0.9859 - val_loss: 0.0913 - val_accuracy: 0.9580\n",
      "Epoch 44/50\n",
      "14/14 [==============================] - 0s 4ms/step - loss: 0.0368 - accuracy: 0.9812 - val_loss: 0.0912 - val_accuracy: 0.9580\n",
      "Epoch 45/50\n",
      "14/14 [==============================] - 0s 4ms/step - loss: 0.0329 - accuracy: 0.9906 - val_loss: 0.0912 - val_accuracy: 0.9580\n",
      "Epoch 46/50\n",
      "14/14 [==============================] - 0s 4ms/step - loss: 0.0304 - accuracy: 0.9859 - val_loss: 0.0922 - val_accuracy: 0.9580\n",
      "Epoch 47/50\n",
      "14/14 [==============================] - 0s 4ms/step - loss: 0.0314 - accuracy: 0.9859 - val_loss: 0.0930 - val_accuracy: 0.9580\n",
      "Epoch 48/50\n",
      "14/14 [==============================] - 0s 4ms/step - loss: 0.0298 - accuracy: 0.9883 - val_loss: 0.0922 - val_accuracy: 0.9580\n",
      "Epoch 49/50\n",
      "14/14 [==============================] - 0s 4ms/step - loss: 0.0301 - accuracy: 0.9906 - val_loss: 0.0927 - val_accuracy: 0.9580\n",
      "Epoch 50/50\n",
      "14/14 [==============================] - 0s 4ms/step - loss: 0.0482 - accuracy: 0.9836 - val_loss: 0.0912 - val_accuracy: 0.9580\n"
     ]
    },
    {
     "data": {
      "text/plain": [
       "<keras.callbacks.History at 0x1c529fdb288>"
      ]
     },
     "execution_count": 18,
     "metadata": {},
     "output_type": "execute_result"
    }
   ],
   "source": [
    "#Training the CNN on Training set\n",
    "cnn.fit(x_train, y_train, validation_data = (x_test, y_test), epochs = 50)"
   ]
  },
  {
   "cell_type": "markdown",
   "id": "b4cb9520",
   "metadata": {},
   "source": [
    "# Predicting new values"
   ]
  },
  {
   "cell_type": "code",
   "execution_count": 19,
   "id": "697ad188",
   "metadata": {},
   "outputs": [
    {
     "name": "stdout",
     "output_type": "stream",
     "text": [
      "[[0 0]\n",
      " [1 1]\n",
      " [1 1]\n",
      " [0 0]\n",
      " [0 0]\n",
      " [1 1]\n",
      " [1 1]\n",
      " [1 1]\n",
      " [1 0]\n",
      " [0 0]\n",
      " [0 0]\n",
      " [1 1]\n",
      " [0 0]\n",
      " [1 1]\n",
      " [0 0]\n",
      " [1 1]\n",
      " [0 0]\n",
      " [0 0]\n",
      " [0 0]\n",
      " [1 1]\n",
      " [0 1]\n",
      " [0 0]\n",
      " [1 1]\n",
      " [0 0]\n",
      " [0 0]\n",
      " [0 0]\n",
      " [0 0]\n",
      " [0 0]\n",
      " [0 0]\n",
      " [1 1]\n",
      " [0 0]\n",
      " [0 0]\n",
      " [0 0]\n",
      " [0 0]\n",
      " [0 0]\n",
      " [0 0]\n",
      " [1 1]\n",
      " [0 0]\n",
      " [1 1]\n",
      " [0 0]\n",
      " [0 0]\n",
      " [1 1]\n",
      " [0 0]\n",
      " [0 0]\n",
      " [0 0]\n",
      " [0 0]\n",
      " [0 0]\n",
      " [0 0]\n",
      " [0 0]\n",
      " [0 0]\n",
      " [1 1]\n",
      " [1 1]\n",
      " [1 0]\n",
      " [0 0]\n",
      " [0 0]\n",
      " [0 0]\n",
      " [0 0]\n",
      " [1 1]\n",
      " [1 1]\n",
      " [0 0]\n",
      " [0 0]\n",
      " [1 1]\n",
      " [1 1]\n",
      " [0 0]\n",
      " [0 0]\n",
      " [0 0]\n",
      " [1 1]\n",
      " [1 1]\n",
      " [0 0]\n",
      " [0 0]\n",
      " [1 1]\n",
      " [1 1]\n",
      " [0 0]\n",
      " [1 1]\n",
      " [0 0]\n",
      " [0 0]\n",
      " [0 0]\n",
      " [0 1]\n",
      " [0 0]\n",
      " [0 0]\n",
      " [1 1]\n",
      " [0 0]\n",
      " [1 1]\n",
      " [1 1]\n",
      " [1 1]\n",
      " [1 1]\n",
      " [1 1]\n",
      " [1 1]\n",
      " [0 0]\n",
      " [0 0]\n",
      " [0 0]\n",
      " [1 0]\n",
      " [0 0]\n",
      " [0 0]\n",
      " [0 0]\n",
      " [0 0]\n",
      " [1 1]\n",
      " [1 1]\n",
      " [0 0]\n",
      " [1 1]\n",
      " [1 1]\n",
      " [0 0]\n",
      " [1 1]\n",
      " [1 1]\n",
      " [0 0]\n",
      " [0 0]\n",
      " [0 0]\n",
      " [1 1]\n",
      " [0 0]\n",
      " [0 0]\n",
      " [1 1]\n",
      " [0 0]\n",
      " [0 0]\n",
      " [1 1]\n",
      " [0 0]\n",
      " [1 1]\n",
      " [0 0]\n",
      " [0 0]\n",
      " [0 0]\n",
      " [1 1]\n",
      " [0 0]\n",
      " [0 0]\n",
      " [0 0]\n",
      " [1 1]\n",
      " [0 0]\n",
      " [1 1]\n",
      " [1 1]\n",
      " [0 0]\n",
      " [0 0]\n",
      " [1 1]\n",
      " [1 1]\n",
      " [1 1]\n",
      " [0 0]\n",
      " [0 0]\n",
      " [0 0]\n",
      " [1 1]\n",
      " [1 0]\n",
      " [0 0]\n",
      " [0 0]\n",
      " [1 1]\n",
      " [0 0]\n",
      " [1 1]\n",
      " [0 0]]\n"
     ]
    }
   ],
   "source": [
    "y_pred = cnn.predict(x_test)\n",
    "y_pred = (y_pred>0.5)\n",
    "print(np.concatenate((y_pred.reshape(len(y_pred), 1), y_test.reshape(len(y_test), 1)), 1))"
   ]
  },
  {
   "cell_type": "code",
   "execution_count": 20,
   "id": "a1a509d5",
   "metadata": {},
   "outputs": [
    {
     "name": "stdout",
     "output_type": "stream",
     "text": [
      "[[85  4]\n",
      " [ 2 52]]\n"
     ]
    },
    {
     "data": {
      "text/plain": [
       "0.958041958041958"
      ]
     },
     "execution_count": 20,
     "metadata": {},
     "output_type": "execute_result"
    }
   ],
   "source": [
    "#Confusion Matrix\n",
    "from sklearn.metrics import confusion_matrix, accuracy_score\n",
    "cm = confusion_matrix(y_test, y_pred)\n",
    "print(cm)\n",
    "accuracy_score(y_test, y_pred)"
   ]
  },
  {
   "cell_type": "code",
   "execution_count": null,
   "id": "3b8a240d",
   "metadata": {},
   "outputs": [],
   "source": []
  }
 ],
 "metadata": {
  "kernelspec": {
   "display_name": "Python 3",
   "language": "python",
   "name": "python3"
  },
  "language_info": {
   "codemirror_mode": {
    "name": "ipython",
    "version": 3
   },
   "file_extension": ".py",
   "mimetype": "text/x-python",
   "name": "python",
   "nbconvert_exporter": "python",
   "pygments_lexer": "ipython3",
   "version": "3.7.4"
  }
 },
 "nbformat": 4,
 "nbformat_minor": 5
}
