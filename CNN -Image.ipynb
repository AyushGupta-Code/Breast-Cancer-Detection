{
 "cells": [
  {
   "cell_type": "code",
   "execution_count": 1,
   "id": "d895d7b9",
   "metadata": {},
   "outputs": [],
   "source": [
    "import warnings\n",
    "warnings.filterwarnings('ignore')"
   ]
  },
  {
   "cell_type": "code",
   "execution_count": 2,
   "id": "d41fef43",
   "metadata": {},
   "outputs": [
    {
     "name": "stderr",
     "output_type": "stream",
     "text": [
      "2023-03-21 20:55:06.009261: I tensorflow/core/platform/cpu_feature_guard.cc:193] This TensorFlow binary is optimized with oneAPI Deep Neural Network Library (oneDNN) to use the following CPU instructions in performance-critical operations:  AVX2 FMA\n",
      "To enable them in other operations, rebuild TensorFlow with the appropriate compiler flags.\n",
      "2023-03-21 20:55:06.748238: W tensorflow/compiler/xla/stream_executor/platform/default/dso_loader.cc:64] Could not load dynamic library 'libnvinfer.so.7'; dlerror: libnvinfer.so.7: cannot open shared object file: No such file or directory; LD_LIBRARY_PATH: :/home/desmond/anaconda3/lib/:/home/desmond/anaconda3/lib/\n",
      "2023-03-21 20:55:06.748326: W tensorflow/compiler/xla/stream_executor/platform/default/dso_loader.cc:64] Could not load dynamic library 'libnvinfer_plugin.so.7'; dlerror: libnvinfer_plugin.so.7: cannot open shared object file: No such file or directory; LD_LIBRARY_PATH: :/home/desmond/anaconda3/lib/:/home/desmond/anaconda3/lib/\n",
      "2023-03-21 20:55:06.748333: W tensorflow/compiler/tf2tensorrt/utils/py_utils.cc:38] TF-TRT Warning: Cannot dlopen some TensorRT libraries. If you would like to use Nvidia GPU with TensorRT, please make sure the missing libraries mentioned above are installed properly.\n"
     ]
    }
   ],
   "source": [
    "#Import the libraries\n",
    "import numpy as np\n",
    "from keras.preprocessing.image import ImageDataGenerator\n",
    "import tensorflow as tf"
   ]
  },
  {
   "cell_type": "code",
   "execution_count": 3,
   "id": "61087fb9",
   "metadata": {},
   "outputs": [
    {
     "name": "stdout",
     "output_type": "stream",
     "text": [
      "Found 200679 images belonging to 2 classes.\n"
     ]
    }
   ],
   "source": [
    "#Preprocessing the Training set\n",
    "train_datagen = ImageDataGenerator(rescale = 1./255, shear_range= 0.2, zoom_range=0.2, horizontal_flip=True)\n",
    "training_set = train_datagen.flow_from_directory('dataset/training_set', target_size = (64,64), batch_size = 32, class_mode = 'binary')"
   ]
  },
  {
   "cell_type": "code",
   "execution_count": 4,
   "id": "3b09ab75",
   "metadata": {},
   "outputs": [
    {
     "name": "stdout",
     "output_type": "stream",
     "text": [
      "Found 50930 images belonging to 2 classes.\n"
     ]
    }
   ],
   "source": [
    "#Preprocessing the test set\n",
    "test_datagen = ImageDataGenerator(rescale = 1./255)\n",
    "test_set = test_datagen.flow_from_directory('dataset/test_set', target_size = (64,64), batch_size = 32, class_mode = 'binary')"
   ]
  },
  {
   "cell_type": "code",
   "execution_count": 5,
   "id": "2bfd32bd",
   "metadata": {},
   "outputs": [
    {
     "name": "stderr",
     "output_type": "stream",
     "text": [
      "2023-03-21 20:55:12.767718: I tensorflow/compiler/xla/stream_executor/cuda/cuda_gpu_executor.cc:981] successful NUMA node read from SysFS had negative value (-1), but there must be at least one NUMA node, so returning NUMA node zero\n",
      "2023-03-21 20:55:12.768039: W tensorflow/compiler/xla/stream_executor/platform/default/dso_loader.cc:64] Could not load dynamic library 'libcublas.so.11'; dlerror: libcublas.so.11: cannot open shared object file: No such file or directory; LD_LIBRARY_PATH: :/home/desmond/anaconda3/lib/:/home/desmond/anaconda3/lib/\n",
      "2023-03-21 20:55:12.768142: W tensorflow/compiler/xla/stream_executor/platform/default/dso_loader.cc:64] Could not load dynamic library 'libcublasLt.so.11'; dlerror: libcublasLt.so.11: cannot open shared object file: No such file or directory; LD_LIBRARY_PATH: :/home/desmond/anaconda3/lib/:/home/desmond/anaconda3/lib/\n",
      "2023-03-21 20:55:12.832568: W tensorflow/compiler/xla/stream_executor/platform/default/dso_loader.cc:64] Could not load dynamic library 'libcudnn.so.8'; dlerror: libcudnn.so.8: cannot open shared object file: No such file or directory; LD_LIBRARY_PATH: :/home/desmond/anaconda3/lib/:/home/desmond/anaconda3/lib/\n",
      "2023-03-21 20:55:12.832591: W tensorflow/core/common_runtime/gpu/gpu_device.cc:1934] Cannot dlopen some GPU libraries. Please make sure the missing libraries mentioned above are installed properly if you would like to use GPU. Follow the guide at https://www.tensorflow.org/install/gpu for how to download and setup the required libraries for your platform.\n",
      "Skipping registering GPU devices...\n",
      "2023-03-21 20:55:12.834096: I tensorflow/core/platform/cpu_feature_guard.cc:193] This TensorFlow binary is optimized with oneAPI Deep Neural Network Library (oneDNN) to use the following CPU instructions in performance-critical operations:  AVX2 FMA\n",
      "To enable them in other operations, rebuild TensorFlow with the appropriate compiler flags.\n",
      "2023-03-21 20:55:12.913411: W tensorflow/tsl/framework/cpu_allocator_impl.cc:82] Allocation of 13778944 exceeds 10% of free system memory.\n",
      "2023-03-21 20:55:12.918032: W tensorflow/tsl/framework/cpu_allocator_impl.cc:82] Allocation of 13778944 exceeds 10% of free system memory.\n",
      "2023-03-21 20:55:12.920803: W tensorflow/tsl/framework/cpu_allocator_impl.cc:82] Allocation of 13778944 exceeds 10% of free system memory.\n"
     ]
    }
   ],
   "source": [
    "#Initialize the CNN\n",
    "cnn = tf.keras.models.Sequential()\n",
    "cnn.add(tf.keras.layers.Conv2D(filters = 32, kernel_size = 3, activation = 'relu', input_shape = [64,64,3]))\n",
    "cnn.add(tf.keras.layers.MaxPool2D(pool_size = 2, strides = 2))\n",
    "cnn.add(tf.keras.layers.Conv2D(filters = 32, kernel_size = 3, activation = 'relu'))\n",
    "cnn.add(tf.keras.layers.Flatten())\n",
    "cnn.add(tf.keras.layers.Dense(units = 128, activation = 'relu'))\n",
    "cnn.add(tf.keras.layers.Dense(units = 1, activation = 'sigmoid'))"
   ]
  },
  {
   "cell_type": "code",
   "execution_count": 6,
   "id": "228a7406",
   "metadata": {},
   "outputs": [
    {
     "name": "stdout",
     "output_type": "stream",
     "text": [
      "Epoch 1/25\n"
     ]
    },
    {
     "name": "stderr",
     "output_type": "stream",
     "text": [
      "2023-03-21 20:55:13.594072: W tensorflow/tsl/framework/cpu_allocator_impl.cc:82] Allocation of 13778944 exceeds 10% of free system memory.\n",
      "2023-03-21 20:55:13.596279: W tensorflow/tsl/framework/cpu_allocator_impl.cc:82] Allocation of 13778944 exceeds 10% of free system memory.\n"
     ]
    },
    {
     "name": "stdout",
     "output_type": "stream",
     "text": [
      "6272/6272 [==============================] - 642s 102ms/step - loss: 0.4172 - accuracy: 0.8160 - val_loss: 0.3705 - val_accuracy: 0.8417\n",
      "Epoch 2/25\n",
      "6272/6272 [==============================] - 636s 101ms/step - loss: 0.3776 - accuracy: 0.8369 - val_loss: 0.3902 - val_accuracy: 0.8342\n",
      "Epoch 3/25\n",
      "6272/6272 [==============================] - 599s 95ms/step - loss: 0.3634 - accuracy: 0.8435 - val_loss: 0.3532 - val_accuracy: 0.8509\n",
      "Epoch 4/25\n",
      "6272/6272 [==============================] - 579s 92ms/step - loss: 0.3561 - accuracy: 0.8470 - val_loss: 0.4075 - val_accuracy: 0.8132\n",
      "Epoch 5/25\n",
      "6272/6272 [==============================] - 525s 84ms/step - loss: 0.3518 - accuracy: 0.8487 - val_loss: 0.3786 - val_accuracy: 0.8310\n",
      "Epoch 6/25\n",
      "6272/6272 [==============================] - 554s 88ms/step - loss: 0.3462 - accuracy: 0.8516 - val_loss: 0.4089 - val_accuracy: 0.8201\n",
      "Epoch 7/25\n",
      "6272/6272 [==============================] - 564s 90ms/step - loss: 0.3442 - accuracy: 0.8530 - val_loss: 0.3750 - val_accuracy: 0.8353\n",
      "Epoch 8/25\n",
      "6272/6272 [==============================] - 526s 84ms/step - loss: 0.3412 - accuracy: 0.8536 - val_loss: 0.3557 - val_accuracy: 0.8468\n",
      "Epoch 9/25\n",
      "6272/6272 [==============================] - 525s 84ms/step - loss: 0.3391 - accuracy: 0.8556 - val_loss: 0.3753 - val_accuracy: 0.8397\n",
      "Epoch 10/25\n",
      "6272/6272 [==============================] - 525s 84ms/step - loss: 0.3376 - accuracy: 0.8558 - val_loss: 0.3390 - val_accuracy: 0.8553\n",
      "Epoch 11/25\n",
      "6272/6272 [==============================] - 524s 84ms/step - loss: 0.3358 - accuracy: 0.8568 - val_loss: 0.3447 - val_accuracy: 0.8534\n",
      "Epoch 12/25\n",
      "6272/6272 [==============================] - 523s 83ms/step - loss: 0.3329 - accuracy: 0.8588 - val_loss: 0.3358 - val_accuracy: 0.8579\n",
      "Epoch 13/25\n",
      "6272/6272 [==============================] - 522s 83ms/step - loss: 0.3310 - accuracy: 0.8595 - val_loss: 0.3537 - val_accuracy: 0.8492\n",
      "Epoch 14/25\n",
      "6272/6272 [==============================] - 522s 83ms/step - loss: 0.3293 - accuracy: 0.8602 - val_loss: 0.3481 - val_accuracy: 0.8490\n",
      "Epoch 15/25\n",
      "6272/6272 [==============================] - 525s 84ms/step - loss: 0.3279 - accuracy: 0.8615 - val_loss: 0.3695 - val_accuracy: 0.8400\n",
      "Epoch 16/25\n",
      "6272/6272 [==============================] - 549s 87ms/step - loss: 0.3268 - accuracy: 0.8627 - val_loss: 0.3635 - val_accuracy: 0.8385\n",
      "Epoch 17/25\n",
      "6272/6272 [==============================] - 535s 85ms/step - loss: 0.3249 - accuracy: 0.8632 - val_loss: 0.3401 - val_accuracy: 0.8527\n",
      "Epoch 18/25\n",
      "6272/6272 [==============================] - 520s 83ms/step - loss: 0.3244 - accuracy: 0.8630 - val_loss: 0.3542 - val_accuracy: 0.8485\n",
      "Epoch 19/25\n",
      "6272/6272 [==============================] - 522s 83ms/step - loss: 0.3223 - accuracy: 0.8644 - val_loss: 0.3305 - val_accuracy: 0.8592\n",
      "Epoch 20/25\n",
      "6272/6272 [==============================] - 523s 83ms/step - loss: 0.3216 - accuracy: 0.8649 - val_loss: 0.3355 - val_accuracy: 0.8594\n",
      "Epoch 21/25\n",
      "6272/6272 [==============================] - 523s 83ms/step - loss: 0.3210 - accuracy: 0.8656 - val_loss: 0.3303 - val_accuracy: 0.8598\n",
      "Epoch 22/25\n",
      "6272/6272 [==============================] - 523s 83ms/step - loss: 0.3195 - accuracy: 0.8655 - val_loss: 0.3721 - val_accuracy: 0.8359\n",
      "Epoch 23/25\n",
      "6272/6272 [==============================] - 523s 83ms/step - loss: 0.3191 - accuracy: 0.8653 - val_loss: 0.3263 - val_accuracy: 0.8578\n",
      "Epoch 24/25\n",
      "6272/6272 [==============================] - 523s 83ms/step - loss: 0.3182 - accuracy: 0.8667 - val_loss: 0.3341 - val_accuracy: 0.8585\n",
      "Epoch 25/25\n",
      "6272/6272 [==============================] - 522s 83ms/step - loss: 0.3169 - accuracy: 0.8674 - val_loss: 0.3943 - val_accuracy: 0.8311\n"
     ]
    },
    {
     "data": {
      "text/plain": [
       "<keras.callbacks.History at 0x7f14cb93d820>"
      ]
     },
     "execution_count": 6,
     "metadata": {},
     "output_type": "execute_result"
    }
   ],
   "source": [
    "cnn.compile(optimizer = 'adam', loss = 'binary_crossentropy', metrics = ['accuracy'])\n",
    "cnn.fit(x=training_set, validation_data=test_set, epochs = 25)"
   ]
  },
  {
   "cell_type": "code",
   "execution_count": 10,
   "id": "56caf6dd",
   "metadata": {},
   "outputs": [
    {
     "name": "stdout",
     "output_type": "stream",
     "text": [
      "1/1 [==============================] - 0s 16ms/step\n",
      "begnin\n"
     ]
    }
   ],
   "source": [
    "import keras.utils as image\n",
    "test_image = image.load_img('dataset/single_prediction/is_0.png', target_size = (64,64))\n",
    "test_image = np.expand_dims(test_image, axis = 0)\n",
    "result = cnn.predict(test_image)\n",
    "training_set.class_indices\n",
    "if result[0][0] == 1:\n",
    "    prediction = 'malignant'\n",
    "else:\n",
    "    prediction = 'begnin'\n",
    "print(prediction)"
   ]
  },
  {
   "cell_type": "code",
   "execution_count": null,
   "id": "8f29190f",
   "metadata": {},
   "outputs": [],
   "source": []
  }
 ],
 "metadata": {
  "kernelspec": {
   "display_name": "Python 3 (ipykernel)",
   "language": "python",
   "name": "python3"
  },
  "language_info": {
   "codemirror_mode": {
    "name": "ipython",
    "version": 3
   },
   "file_extension": ".py",
   "mimetype": "text/x-python",
   "name": "python",
   "nbconvert_exporter": "python",
   "pygments_lexer": "ipython3",
   "version": "3.9.13"
  }
 },
 "nbformat": 4,
 "nbformat_minor": 5
}
